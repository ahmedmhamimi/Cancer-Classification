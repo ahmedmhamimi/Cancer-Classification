{
 "cells": [
  {
   "cell_type": "markdown",
   "id": "0f89c4fc-51ef-4949-a26a-2fd9e6fc551d",
   "metadata": {},
   "source": [
    "# Melanoma Cancer Classification (Benign - Malignant)\n",
    "### The goal of this project is to determine weather the person has Melanoma or not using only the image input"
   ]
  },
  {
   "cell_type": "markdown",
   "id": "f7456355-f1b4-4fd7-bcd1-f2e75811e074",
   "metadata": {},
   "source": [
    "# Data\n",
    "## 13900 images 224 x 244\n",
    "### Training data - 11879 images in total\n",
    " - 6289 Malignant images\n",
    " - 5590 Benign images\n",
    "### Testing Data - 2000 images in total\n",
    " - 1000 images for Malignant\n",
    " - 1000 images for Bengin in a total of 2000 images\n",
    "\n",
    "\n",
    "Source: Kaggle\n",
    "\n",
    "Link: https://www.kaggle.com/datasets/bhaveshmittal/melanoma-cancer-dataset"
   ]
  },
  {
   "cell_type": "code",
   "execution_count": 20,
   "id": "791e8003-e603-4daa-aa83-2c13b51a9326",
   "metadata": {},
   "outputs": [],
   "source": [
    "import tensorflow as tf\n",
    "from tensorflow.keras.preprocessing.image import ImageDataGenerator\n",
    "from tensorflow.keras.models import Sequential, Model\n",
    "from tensorflow.keras.layers import Conv2D, MaxPooling2D, Flatten, Dense, Dropout, Input, BatchNormalization, GlobalAveragePooling2D\n",
    "from tensorflow.keras.optimizers import Adam\n",
    "from sklearn.model_selection import train_test_split\n",
    "from tensorflow.keras.callbacks import EarlyStopping\n",
    "from sklearn.metrics import confusion_matrix, classification_report\n",
    "import numpy as np\n",
    "import pandas as pd\n",
    "import matplotlib.pyplot as plt\n",
    "import seaborn as sns\n",
    "import os\n",
    "import shutil"
   ]
  },
  {
   "cell_type": "code",
   "execution_count": 4,
   "id": "32b3491f-323b-49d0-b5a1-da497fad349c",
   "metadata": {},
   "outputs": [
    {
     "name": "stdout",
     "output_type": "stream",
     "text": [
      "Data splitting completed.\n"
     ]
    }
   ],
   "source": [
    "\"\"\"\n",
    "source_path = r\"C:\\Users\\D E L L\\Desktop\\Deep Learning Project\\test\"\n",
    "output_path = r\"C:\\Users\\D E L L\\Desktop\\Deep Learning Project\\cancer_data_split\"\n",
    "\n",
    "for split in ['val', 'test']:\n",
    "    split_path = os.path.join(output_path, split)\n",
    "    os.makedirs(split_path, exist_ok=True)\n",
    "\n",
    "for disease_folder in os.listdir(source_path):\n",
    "    disease_path = os.path.join(source_path, disease_folder)\n",
    "    if not os.path.isdir(disease_path):\n",
    "        continue\n",
    "    \n",
    "    images = [img for img in os.listdir(disease_path) if img.endswith(('png', 'jpg', 'jpeg'))]\n",
    "    val_imgs, test_imgs = train_test_split(images, test_size=0.5, random_state=42)\n",
    "    \n",
    "    for split, split_imgs in zip(['val', 'test'], [val_imgs, test_imgs]):\n",
    "        split_dir = os.path.join(output_path, split, disease_folder)\n",
    "        os.makedirs(split_dir, exist_ok=True)\n",
    "        for img in split_imgs:\n",
    "            shutil.copy(os.path.join(disease_path, img), os.path.join(split_dir, img))\n",
    "\n",
    "print(\"Data splitting completed.\")\n",
    "\"\"\""
   ]
  },
  {
   "cell_type": "markdown",
   "id": "12bf5982-ae4e-45aa-9a43-d46e5777963b",
   "metadata": {},
   "source": [
    "# Creating the Utility class"
   ]
  },
  {
   "cell_type": "code",
   "execution_count": 2,
   "id": "dad50a77-23ab-4b72-a028-b77e70867e69",
   "metadata": {},
   "outputs": [],
   "source": [
    "class Utility:\n",
    "    def __init__(self, train_dir, val_dir, test_dir, img_height=32, img_width=32, batch_size=32, rotation_range=20, width_shift_range=0.2, height_shift_range=0.2, shear_range=0.2, zoom_range=0.2, horizontal_flip=True):\n",
    "        self.train_dir = train_dir\n",
    "        self.val_dir = val_dir\n",
    "        self.test_dir = test_dir\n",
    "        self.img_height = img_height\n",
    "        self.img_width = img_width\n",
    "        self.batch_size = batch_size\n",
    "        self.rotation_range = rotation_range\n",
    "        self.width_shift_range = width_shift_range\n",
    "        self.height_shift_range = height_shift_range\n",
    "        self.shear_range = shear_range\n",
    "        self.zoom_range = zoom_range\n",
    "        self.horizontal_flip = horizontal_flip\n",
    "\n",
    "        self.train_datagen = ImageDataGenerator(\n",
    "            rescale=1./255,  # Normalize pixel values\n",
    "            rotation_range=self.rotation_range,\n",
    "            width_shift_range=self.width_shift_range,\n",
    "            height_shift_range=self.height_shift_range,\n",
    "            shear_range=self.shear_range,\n",
    "            zoom_range=self.zoom_range,\n",
    "            horizontal_flip=self.horizontal_flip,\n",
    "            fill_mode='nearest'\n",
    "        )\n",
    "\n",
    "        self.val_datagen = ImageDataGenerator(rescale=1./255)\n",
    "        self.test_datagen = ImageDataGenerator(rescale=1./255)"
   ]
  },
  {
   "cell_type": "code",
   "execution_count": 3,
   "id": "c01cac40-a261-461f-acf6-41bf483c81a8",
   "metadata": {},
   "outputs": [],
   "source": [
    "utility = Utility(\n",
    "    train_dir=r\"C:\\Users\\D E L L\\Desktop\\Deep Learning Project\\cancer_data_split\\train\",\n",
    "    val_dir=r\"C:\\Users\\D E L L\\Desktop\\Deep Learning Project\\cancer_data_split\\val\",\n",
    "    test_dir=r\"C:\\Users\\D E L L\\Desktop\\Deep Learning Project\\cancer_data_split\\test\"\n",
    ")"
   ]
  },
  {
   "cell_type": "code",
   "execution_count": 4,
   "id": "ecfd79d2-5f19-4051-9106-a5c9612541c5",
   "metadata": {},
   "outputs": [
    {
     "name": "stdout",
     "output_type": "stream",
     "text": [
      "Training Data:\n",
      "Class 'Benign': 6289 images\n",
      "Class 'Malignant': 5590 images\n",
      "\n",
      "Validation Data:\n",
      "Class 'Benign': 500 images\n",
      "Class 'Malignant': 500 images\n",
      "\n",
      "Test Data:\n",
      "Class 'Benign': 500 images\n",
      "Class 'Malignant': 500 images\n"
     ]
    }
   ],
   "source": [
    "def analyze_directories(directory):\n",
    "    for class_name in os.listdir(directory):\n",
    "        class_path = os.path.join(directory, class_name)\n",
    "        if os.path.isdir(class_path):\n",
    "            print(f\"Class '{class_name}': {len(os.listdir(class_path))} images\")\n",
    "            \n",
    "print(\"Training Data:\")\n",
    "analyze_directories(utility.train_dir)\n",
    "\n",
    "print(\"\\nValidation Data:\")\n",
    "analyze_directories(utility.val_dir)\n",
    "\n",
    "print(\"\\nTest Data:\")\n",
    "analyze_directories(utility.test_dir)\n"
   ]
  },
  {
   "cell_type": "code",
   "execution_count": 5,
   "id": "6d38b97e-667d-4cf1-ba94-722fd9615e9a",
   "metadata": {},
   "outputs": [
    {
     "name": "stdout",
     "output_type": "stream",
     "text": [
      "Training Class Distribution:\n",
      "           Count\n",
      "Benign      6289\n",
      "Malignant   5590\n"
     ]
    },
    {
     "data": {
      "image/png": "[encoded data removed]",
      "text/plain": [
       "<Figure size 640x480 with 1 Axes>"
      ]
     },
     "metadata": {},
     "output_type": "display_data"
    }
   ],
   "source": [
    "def class_distribution(directory):\n",
    "    class_counts = {}\n",
    "    for class_name in os.listdir(directory):\n",
    "        class_path = os.path.join(directory, class_name)\n",
    "        if os.path.isdir(class_path):\n",
    "            class_counts[class_name] = len(os.listdir(class_path))\n",
    "    return pd.DataFrame.from_dict(class_counts, orient='index', columns=['Count'])\n",
    "\n",
    "train_distribution = class_distribution(utility.train_dir)\n",
    "val_distribution = class_distribution(utility.val_dir)\n",
    "test_distribution = class_distribution(utility.test_dir)\n",
    "\n",
    "print(\"Training Class Distribution:\")\n",
    "print(train_distribution)\n",
    "\n",
    "train_distribution.plot(kind='bar', title=\"Training Class Distribution\")\n",
    "plt.show()"
   ]
  },
  {
   "cell_type": "markdown",
   "id": "4e219cfb-dc9f-47c7-93ff-842ff43a6e56",
   "metadata": {},
   "source": [
    "### Creating the training, validation and testing image generators"
   ]
  },
  {
   "cell_type": "code",
   "execution_count": 6,
   "id": "7be2856f-fa27-4cec-a4fe-3ca3663dfb3f",
   "metadata": {},
   "outputs": [],
   "source": [
    "def create_generators(self):\n",
    "    self.train_generator = self.train_datagen.flow_from_directory(\n",
    "        self.train_dir,\n",
    "        target_size=(self.img_height, self.img_width),\n",
    "        batch_size=self.batch_size,\n",
    "        color_mode='rgb',\n",
    "        class_mode='categorical'\n",
    "    )\n",
    "\n",
    "    self.val_generator = self.val_datagen.flow_from_directory(\n",
    "        self.val_dir,\n",
    "        target_size=(self.img_height, self.img_width),\n",
    "        batch_size=self.batch_size,\n",
    "        color_mode='rgb',\n",
    "        class_mode='categorical'\n",
    "    )\n",
    "\n",
    "    self.test_generator = self.test_datagen.flow_from_directory(\n",
    "        self.test_dir,\n",
    "        target_size=(self.img_height, self.img_width),\n",
    "        batch_size=self.batch_size,\n",
    "        color_mode='rgb',\n",
    "        class_mode='categorical'\n",
    "    )\n",
    "    print(\"Generators Created\")\n",
    "Utility.create_generators = create_generators"
   ]
  },
  {
   "cell_type": "markdown",
   "id": "00ab2fbc-d56d-4205-8175-fe80d035b165",
   "metadata": {},
   "source": [
    "### Building the model architecture"
   ]
  },
  {
   "cell_type": "code",
   "execution_count": 7,
   "id": "2185df19-b327-43e4-98f7-23d8b30a7bd9",
   "metadata": {},
   "outputs": [],
   "source": [
    "def build_model(self):\n",
    "    model = Sequential([\n",
    "        Input(shape=(self.img_height, self.img_width, 3)),\n",
    "        Conv2D(64, (3, 3), activation='relu', padding=\"same\"),\n",
    "        BatchNormalization(),\n",
    "        MaxPooling2D((2, 2)),\n",
    "\n",
    "        Conv2D(128, (3, 3), activation='relu', padding=\"same\"),\n",
    "        BatchNormalization(),\n",
    "        MaxPooling2D((2, 2)),\n",
    "\n",
    "        Flatten(),\n",
    "        Dense(64, activation='relu'),\n",
    "        Dense(32, activation='relu'),\n",
    "        Dense(16, activation='relu'),\n",
    "        Dense(8, activation='relu'),\n",
    "\n",
    "        Dropout(0.5),\n",
    "        Dense(2, activation='softmax')\n",
    "    ])\n",
    "    return model\n",
    "    print(\"Model built successfully\")\n",
    "Utility.build_model = build_model"
   ]
  },
  {
   "cell_type": "markdown",
   "id": "374f0acd-162c-4095-bc5f-74c8289ee28a",
   "metadata": {},
   "source": [
    "### Compiling the model"
   ]
  },
  {
   "cell_type": "code",
   "execution_count": 8,
   "id": "924b3ecb-9db5-4fcf-8431-9ec7096a9cc5",
   "metadata": {},
   "outputs": [],
   "source": [
    "def compile_model(self, model, learning_rate=0.001):\n",
    "    model.compile(\n",
    "        optimizer=Adam(learning_rate=learning_rate),\n",
    "        loss='categorical_crossentropy',\n",
    "        metrics=['accuracy']\n",
    "    )\n",
    "    return model\n",
    "    print(\"Model Compiled successfully\")\n",
    "Utility.compile_model = compile_model"
   ]
  },
  {
   "cell_type": "markdown",
   "id": "3812580a-ba57-4541-af0e-667b45979563",
   "metadata": {},
   "source": [
    "### Training the model"
   ]
  },
  {
   "cell_type": "code",
   "execution_count": 9,
   "id": "cfe9391a-f067-4218-b62a-559020c477f4",
   "metadata": {},
   "outputs": [],
   "source": [
    "def train_model(self, model, epochs=20):\n",
    "    history = model.fit(\n",
    "        self.train_generator,\n",
    "        epochs=epochs,\n",
    "        validation_data=self.val_generator\n",
    "    )\n",
    "    return history\n",
    "    print(\"Model trained successfully\")\n",
    "Utility.train_model = train_model"
   ]
  },
  {
   "cell_type": "markdown",
   "id": "169a2489-2a2c-4f8c-9c1b-56383a43f35f",
   "metadata": {},
   "source": [
    "### Model Evaluation"
   ]
  },
  {
   "cell_type": "code",
   "execution_count": 37,
   "id": "7a280f6c-3889-42d7-b01e-998128c5214f",
   "metadata": {},
   "outputs": [],
   "source": [
    "def evaluate_model(self, model):\n",
    "    test_loss, test_acc = model.evaluate(self.test_generator)\n",
    "\n",
    "    print('Test Loss:', test_loss)\n",
    "    print('Test Accuracy:', test_acc)\n",
    "\n",
    "    return test_loss, test_acc\n",
    "Utility.evaluate_model = evaluate_model"
   ]
  },
  {
   "cell_type": "markdown",
   "id": "eccead2d-a332-40d8-b01d-6dfc45556ffa",
   "metadata": {},
   "source": [
    "# Creating the Helper class"
   ]
  },
  {
   "cell_type": "code",
   "execution_count": 39,
   "id": "8fcbb470-c329-44a3-9bb4-56f3b7cb82c6",
   "metadata": {},
   "outputs": [],
   "source": [
    "class Helper:\n",
    "    def __init__(self, utility):\n",
    "        self.utility = utility\n",
    "\n",
    "    def run(self, learning_rate=0.001, epochs=20, batch_size=32, img_height=32, img_width=32, rotation_range=20, width_shift_range=0.2, height_shift_range=0.2, shear_range=0.2, zoom_range=0.2, horizontal_flip=True):\n",
    "        self.utility.__init__(\n",
    "            self.utility.train_dir,\n",
    "            self.utility.val_dir,\n",
    "            self.utility.test_dir,\n",
    "            img_height=img_height,\n",
    "            img_width=img_width,\n",
    "            batch_size=batch_size,\n",
    "            rotation_range=rotation_range,\n",
    "            width_shift_range=width_shift_range,\n",
    "            height_shift_range=height_shift_range,\n",
    "            shear_range=shear_range,\n",
    "            zoom_range=zoom_range,\n",
    "            horizontal_flip=horizontal_flip\n",
    "        )\n",
    "\n",
    "        self.utility.create_generators()\n",
    "        model = self.utility.build_model()\n",
    "        model = self.utility.compile_model(model, learning_rate=learning_rate)\n",
    "        history = self.utility.train_model(model, epochs=epochs)\n",
    "        test_loss, test_acc = self.utility.evaluate_model(model)\n",
    "\n",
    "        return model, test_loss, test_acc"
   ]
  },
  {
   "cell_type": "markdown",
   "id": "25bbce2f-87df-4d7b-9432-c1b7eb16353c",
   "metadata": {},
   "source": [
    "## Running Scenario 1"
   ]
  },
  {
   "cell_type": "code",
   "execution_count": 40,
   "id": "4a63b12c-aee4-416d-892d-d72a6d527463",
   "metadata": {},
   "outputs": [
    {
     "name": "stdout",
     "output_type": "stream",
     "text": [
      "Found 11879 images belonging to 2 classes.\n",
      "Found 1000 images belonging to 2 classes.\n",
      "Found 1000 images belonging to 2 classes.\n",
      "Generators Created\n",
      "Epoch 1/10\n",
      "\u001b[1m186/186\u001b[0m \u001b[32m━━━━━━━━━━━━━━━━━━━━\u001b[0m\u001b[37m\u001b[0m \u001b[1m22s\u001b[0m 108ms/step - accuracy: 0.7037 - loss: 0.5643 - val_accuracy: 0.7170 - val_loss: 0.6406\n",
      "Epoch 2/10\n",
      "\u001b[1m186/186\u001b[0m \u001b[32m━━━━━━━━━━━━━━━━━━━━\u001b[0m\u001b[37m\u001b[0m \u001b[1m20s\u001b[0m 108ms/step - accuracy: 0.7678 - loss: 0.4607 - val_accuracy: 0.6270 - val_loss: 0.6823\n",
      "Epoch 3/10\n",
      "\u001b[1m186/186\u001b[0m \u001b[32m━━━━━━━━━━━━━━━━━━━━\u001b[0m\u001b[37m\u001b[0m \u001b[1m20s\u001b[0m 107ms/step - accuracy: 0.7731 - loss: 0.4400 - val_accuracy: 0.6360 - val_loss: 0.8193\n",
      "Epoch 4/10\n",
      "\u001b[1m186/186\u001b[0m \u001b[32m━━━━━━━━━━━━━━━━━━━━\u001b[0m\u001b[37m\u001b[0m \u001b[1m20s\u001b[0m 107ms/step - accuracy: 0.7805 - loss: 0.4311 - val_accuracy: 0.8820 - val_loss: 0.3462\n",
      "Epoch 5/10\n",
      "\u001b[1m186/186\u001b[0m \u001b[32m━━━━━━━━━━━━━━━━━━━━\u001b[0m\u001b[37m\u001b[0m \u001b[1m20s\u001b[0m 106ms/step - accuracy: 0.8037 - loss: 0.4184 - val_accuracy: 0.8530 - val_loss: 0.3434\n",
      "Epoch 6/10\n",
      "\u001b[1m186/186\u001b[0m \u001b[32m━━━━━━━━━━━━━━━━━━━━\u001b[0m\u001b[37m\u001b[0m \u001b[1m20s\u001b[0m 108ms/step - accuracy: 0.8006 - loss: 0.4084 - val_accuracy: 0.6820 - val_loss: 0.5717\n",
      "Epoch 7/10\n",
      "\u001b[1m186/186\u001b[0m \u001b[32m━━━━━━━━━━━━━━━━━━━━\u001b[0m\u001b[37m\u001b[0m \u001b[1m20s\u001b[0m 107ms/step - accuracy: 0.7976 - loss: 0.4038 - val_accuracy: 0.7120 - val_loss: 0.5088\n",
      "Epoch 8/10\n",
      "\u001b[1m186/186\u001b[0m \u001b[32m━━━━━━━━━━━━━━━━━━━━\u001b[0m\u001b[37m\u001b[0m \u001b[1m20s\u001b[0m 107ms/step - accuracy: 0.7972 - loss: 0.3979 - val_accuracy: 0.9050 - val_loss: 0.3161\n",
      "Epoch 9/10\n",
      "\u001b[1m186/186\u001b[0m \u001b[32m━━━━━━━━━━━━━━━━━━━━\u001b[0m\u001b[37m\u001b[0m \u001b[1m20s\u001b[0m 108ms/step - accuracy: 0.8036 - loss: 0.3974 - val_accuracy: 0.8230 - val_loss: 0.4378\n",
      "Epoch 10/10\n",
      "\u001b[1m186/186\u001b[0m \u001b[32m━━━━━━━━━━━━━━━━━━━━\u001b[0m\u001b[37m\u001b[0m \u001b[1m20s\u001b[0m 108ms/step - accuracy: 0.8057 - loss: 0.3920 - val_accuracy: 0.8780 - val_loss: 0.3272\n",
      "\u001b[1m16/16\u001b[0m \u001b[32m━━━━━━━━━━━━━━━━━━━━\u001b[0m\u001b[37m\u001b[0m \u001b[1m1s\u001b[0m 36ms/step - accuracy: 0.8791 - loss: 0.3280\n",
      "Test Loss: 0.3372463583946228\n",
      "Test Accuracy: 0.875\n"
     ]
    }
   ],
   "source": [
    "helper = Helper(utility)\n",
    "scenario_1, loss_1, acc_1 = helper.run(\n",
    "    learning_rate=0.0005,\n",
    "    epochs=10,\n",
    "    batch_size=64,\n",
    "    img_height=32,\n",
    "    img_width=32,\n",
    "    rotation_range=30,\n",
    "    width_shift_range=0.3,\n",
    "    height_shift_range=0.3,\n",
    "    shear_range=0.3,\n",
    "    zoom_range=0.3,\n",
    "    horizontal_flip=True\n",
    ")"
   ]
  },
  {
   "cell_type": "code",
   "execution_count": 41,
   "id": "6864b57f-721e-4258-bdb1-d2efc772eb99",
   "metadata": {},
   "outputs": [],
   "source": [
    "#model.save(\"model.h5\")"
   ]
  },
  {
   "cell_type": "code",
   "execution_count": 42,
   "id": "5ee301a7-b9e1-4ab7-a4b4-91e939c84943",
   "metadata": {},
   "outputs": [
    {
     "data": {
      "image/png": "[encoded data removed]",
      "text/plain": [
       "<Figure size 640x480 with 1 Axes>"
      ]
     },
     "metadata": {},
     "output_type": "display_data"
    }
   ],
   "source": [
    "def plot_pixel_histogram(generator):\n",
    "    x_batch, y_batch = next(generator)\n",
    "    plt.hist(x_batch.flatten(), bins=50, color='blue', alpha=0.7)\n",
    "    plt.title(\"Pixel Intensity Distribution\")\n",
    "    plt.xlabel(\"Pixel Intensity\")\n",
    "    plt.ylabel(\"Frequency\")\n",
    "    plt.show()\n",
    "\n",
    "plot_pixel_histogram(utility.train_generator)"
   ]
  },
  {
   "cell_type": "code",
   "execution_count": 43,
   "id": "4591cc01-96ee-427f-b55f-7f35a4747e97",
   "metadata": {},
   "outputs": [
    {
     "name": "stdout",
     "output_type": "stream",
     "text": [
      "Found 11879 images belonging to 2 classes.\n",
      "Found 1000 images belonging to 2 classes.\n",
      "Found 1000 images belonging to 2 classes.\n",
      "Generators Created\n",
      "Epoch 1/10\n",
      "\u001b[1m372/372\u001b[0m \u001b[32m━━━━━━━━━━━━━━━━━━━━\u001b[0m\u001b[37m\u001b[0m \u001b[1m12s\u001b[0m 27ms/step - accuracy: 0.6935 - loss: 0.5744 - val_accuracy: 0.7230 - val_loss: 0.5385\n",
      "Epoch 2/10\n",
      "\u001b[1m372/372\u001b[0m \u001b[32m━━━━━━━━━━━━━━━━━━━━\u001b[0m\u001b[37m\u001b[0m \u001b[1m10s\u001b[0m 27ms/step - accuracy: 0.7598 - loss: 0.5006 - val_accuracy: 0.7780 - val_loss: 0.4864\n",
      "Epoch 3/10\n",
      "\u001b[1m372/372\u001b[0m \u001b[32m━━━━━━━━━━━━━━━━━━━━\u001b[0m\u001b[37m\u001b[0m \u001b[1m10s\u001b[0m 26ms/step - accuracy: 0.8035 - loss: 0.4478 - val_accuracy: 0.8740 - val_loss: 0.3759\n",
      "Epoch 4/10\n",
      "\u001b[1m372/372\u001b[0m \u001b[32m━━━━━━━━━━━━━━━━━━━━\u001b[0m\u001b[37m\u001b[0m \u001b[1m10s\u001b[0m 27ms/step - accuracy: 0.8081 - loss: 0.4322 - val_accuracy: 0.8510 - val_loss: 0.3694\n",
      "Epoch 5/10\n",
      "\u001b[1m372/372\u001b[0m \u001b[32m━━━━━━━━━━━━━━━━━━━━\u001b[0m\u001b[37m\u001b[0m \u001b[1m10s\u001b[0m 27ms/step - accuracy: 0.8150 - loss: 0.4217 - val_accuracy: 0.7630 - val_loss: 0.5212\n",
      "Epoch 6/10\n",
      "\u001b[1m372/372\u001b[0m \u001b[32m━━━━━━━━━━━━━━━━━━━━\u001b[0m\u001b[37m\u001b[0m \u001b[1m10s\u001b[0m 27ms/step - accuracy: 0.8170 - loss: 0.4104 - val_accuracy: 0.7400 - val_loss: 0.5251\n",
      "Epoch 7/10\n",
      "\u001b[1m372/372\u001b[0m \u001b[32m━━━━━━━━━━━━━━━━━━━━\u001b[0m\u001b[37m\u001b[0m \u001b[1m10s\u001b[0m 27ms/step - accuracy: 0.8172 - loss: 0.4076 - val_accuracy: 0.8930 - val_loss: 0.3324\n",
      "Epoch 8/10\n",
      "\u001b[1m372/372\u001b[0m \u001b[32m━━━━━━━━━━━━━━━━━━━━\u001b[0m\u001b[37m\u001b[0m \u001b[1m10s\u001b[0m 28ms/step - accuracy: 0.8164 - loss: 0.4142 - val_accuracy: 0.7500 - val_loss: 0.4415\n",
      "Epoch 9/10\n",
      "\u001b[1m372/372\u001b[0m \u001b[32m━━━━━━━━━━━━━━━━━━━━\u001b[0m\u001b[37m\u001b[0m \u001b[1m10s\u001b[0m 27ms/step - accuracy: 0.8227 - loss: 0.4019 - val_accuracy: 0.8150 - val_loss: 0.4361\n",
      "Epoch 10/10\n",
      "\u001b[1m372/372\u001b[0m \u001b[32m━━━━━━━━━━━━━━━━━━━━\u001b[0m\u001b[37m\u001b[0m \u001b[1m10s\u001b[0m 27ms/step - accuracy: 0.8238 - loss: 0.4013 - val_accuracy: 0.8430 - val_loss: 0.3645\n",
      "\u001b[1m32/32\u001b[0m \u001b[32m━━━━━━━━━━━━━━━━━━━━\u001b[0m\u001b[37m\u001b[0m \u001b[1m1s\u001b[0m 19ms/step - accuracy: 0.8368 - loss: 0.3558\n",
      "Test Loss: 0.36189472675323486\n",
      "Test Accuracy: 0.8389999866485596\n"
     ]
    }
   ],
   "source": [
    "helper = Helper(utility)\n",
    "scenario_2, loss_2, acc_2 = helper.run(\n",
    "    learning_rate=0.0005,\n",
    "    epochs=10,\n",
    "    batch_size=32,\n",
    "    img_height=8,\n",
    "    img_width=8,\n",
    "    rotation_range=30,\n",
    "    width_shift_range=0.3,\n",
    "    height_shift_range=0.3,\n",
    "    shear_range=0.3,\n",
    "    zoom_range=0.3,\n",
    "    horizontal_flip=True\n",
    ")"
   ]
  },
  {
   "cell_type": "markdown",
   "id": "788060bf-a601-4457-9011-af9466d06cb7",
   "metadata": {},
   "source": [
    "# Pretrained - VGG16"
   ]
  },
  {
   "cell_type": "code",
   "execution_count": 44,
   "id": "29c4b96c-e587-4e21-bad3-3073df24c0ce",
   "metadata": {},
   "outputs": [
    {
     "name": "stdout",
     "output_type": "stream",
     "text": [
      "Found 11879 images belonging to 2 classes.\n",
      "Found 1000 images belonging to 2 classes.\n",
      "Found 1000 images belonging to 2 classes.\n",
      "Epoch 1/10\n",
      "\u001b[1m372/372\u001b[0m \u001b[32m━━━━━━━━━━━━━━━━━━━━\u001b[0m\u001b[37m\u001b[0m \u001b[1m23s\u001b[0m 59ms/step - accuracy: 0.7835 - loss: 0.4539 - val_accuracy: 0.7860 - val_loss: 0.4218\n",
      "Epoch 2/10\n",
      "\u001b[1m372/372\u001b[0m \u001b[32m━━━━━━━━━━━━━━━━━━━━\u001b[0m\u001b[37m\u001b[0m \u001b[1m22s\u001b[0m 59ms/step - accuracy: 0.8227 - loss: 0.3867 - val_accuracy: 0.7800 - val_loss: 0.4300\n",
      "Epoch 3/10\n",
      "\u001b[1m372/372\u001b[0m \u001b[32m━━━━━━━━━━━━━━━━━━━━\u001b[0m\u001b[37m\u001b[0m \u001b[1m21s\u001b[0m 57ms/step - accuracy: 0.8348 - loss: 0.3666 - val_accuracy: 0.8090 - val_loss: 0.3883\n",
      "Epoch 4/10\n",
      "\u001b[1m372/372\u001b[0m \u001b[32m━━━━━━━━━━━━━━━━━━━━\u001b[0m\u001b[37m\u001b[0m \u001b[1m22s\u001b[0m 58ms/step - accuracy: 0.8345 - loss: 0.3568 - val_accuracy: 0.7960 - val_loss: 0.4001\n",
      "Epoch 5/10\n",
      "\u001b[1m372/372\u001b[0m \u001b[32m━━━━━━━━━━━━━━━━━━━━\u001b[0m\u001b[37m\u001b[0m \u001b[1m21s\u001b[0m 58ms/step - accuracy: 0.8380 - loss: 0.3533 - val_accuracy: 0.8180 - val_loss: 0.3672\n",
      "Epoch 6/10\n",
      "\u001b[1m372/372\u001b[0m \u001b[32m━━━━━━━━━━━━━━━━━━━━\u001b[0m\u001b[37m\u001b[0m \u001b[1m21s\u001b[0m 57ms/step - accuracy: 0.8341 - loss: 0.3487 - val_accuracy: 0.7840 - val_loss: 0.4356\n",
      "Epoch 7/10\n",
      "\u001b[1m372/372\u001b[0m \u001b[32m━━━━━━━━━━━━━━━━━━━━\u001b[0m\u001b[37m\u001b[0m \u001b[1m21s\u001b[0m 57ms/step - accuracy: 0.8385 - loss: 0.3488 - val_accuracy: 0.7830 - val_loss: 0.4234\n",
      "Epoch 8/10\n",
      "\u001b[1m372/372\u001b[0m \u001b[32m━━━━━━━━━━━━━━━━━━━━\u001b[0m\u001b[37m\u001b[0m \u001b[1m22s\u001b[0m 58ms/step - accuracy: 0.8384 - loss: 0.3457 - val_accuracy: 0.8420 - val_loss: 0.3476\n",
      "Epoch 9/10\n",
      "\u001b[1m372/372\u001b[0m \u001b[32m━━━━━━━━━━━━━━━━━━━━\u001b[0m\u001b[37m\u001b[0m \u001b[1m21s\u001b[0m 58ms/step - accuracy: 0.8462 - loss: 0.3430 - val_accuracy: 0.8420 - val_loss: 0.3543\n",
      "Epoch 10/10\n",
      "\u001b[1m372/372\u001b[0m \u001b[32m━━━━━━━━━━━━━━━━━━━━\u001b[0m\u001b[37m\u001b[0m \u001b[1m22s\u001b[0m 59ms/step - accuracy: 0.8508 - loss: 0.3308 - val_accuracy: 0.8150 - val_loss: 0.3866\n",
      "\u001b[1m32/32\u001b[0m \u001b[32m━━━━━━━━━━━━━━━━━━━━\u001b[0m\u001b[37m\u001b[0m \u001b[1m2s\u001b[0m 48ms/step - accuracy: 0.8503 - loss: 0.3213\n",
      "Test Accuracy: 88.30%\n",
      "Epoch 1/10\n",
      "\u001b[1m372/372\u001b[0m \u001b[32m━━━━━━━━━━━━━━━━━━━━\u001b[0m\u001b[37m\u001b[0m \u001b[1m45s\u001b[0m 116ms/step - accuracy: 0.8120 - loss: 0.4487 - val_accuracy: 0.8470 - val_loss: 0.3577\n",
      "Epoch 2/10\n",
      "\u001b[1m372/372\u001b[0m \u001b[32m━━━━━━━━━━━━━━━━━━━━\u001b[0m\u001b[37m\u001b[0m \u001b[1m41s\u001b[0m 111ms/step - accuracy: 0.8464 - loss: 0.3382 - val_accuracy: 0.8660 - val_loss: 0.3351\n",
      "Epoch 3/10\n",
      "\u001b[1m372/372\u001b[0m \u001b[32m━━━━━━━━━━━━━━━━━━━━\u001b[0m\u001b[37m\u001b[0m \u001b[1m41s\u001b[0m 110ms/step - accuracy: 0.8569 - loss: 0.3143 - val_accuracy: 0.8700 - val_loss: 0.3093\n",
      "Epoch 4/10\n",
      "\u001b[1m372/372\u001b[0m \u001b[32m━━━━━━━━━━━━━━━━━━━━\u001b[0m\u001b[37m\u001b[0m \u001b[1m41s\u001b[0m 111ms/step - accuracy: 0.8659 - loss: 0.3096 - val_accuracy: 0.8660 - val_loss: 0.3024\n",
      "Epoch 5/10\n",
      "\u001b[1m372/372\u001b[0m \u001b[32m━━━━━━━━━━━━━━━━━━━━\u001b[0m\u001b[37m\u001b[0m \u001b[1m42s\u001b[0m 112ms/step - accuracy: 0.8685 - loss: 0.2931 - val_accuracy: 0.8390 - val_loss: 0.3340\n",
      "Epoch 6/10\n",
      "\u001b[1m372/372\u001b[0m \u001b[32m━━━━━━━━━━━━━━━━━━━━\u001b[0m\u001b[37m\u001b[0m \u001b[1m42s\u001b[0m 112ms/step - accuracy: 0.8696 - loss: 0.2939 - val_accuracy: 0.8630 - val_loss: 0.3260\n",
      "Epoch 7/10\n",
      "\u001b[1m372/372\u001b[0m \u001b[32m━━━━━━━━━━━━━━━━━━━━\u001b[0m\u001b[37m\u001b[0m \u001b[1m41s\u001b[0m 110ms/step - accuracy: 0.8655 - loss: 0.2954 - val_accuracy: 0.8430 - val_loss: 0.3238\n",
      "Epoch 8/10\n",
      "\u001b[1m372/372\u001b[0m \u001b[32m━━━━━━━━━━━━━━━━━━━━\u001b[0m\u001b[37m\u001b[0m \u001b[1m42s\u001b[0m 113ms/step - accuracy: 0.8760 - loss: 0.2802 - val_accuracy: 0.8480 - val_loss: 0.3218\n",
      "Epoch 9/10\n",
      "\u001b[1m372/372\u001b[0m \u001b[32m━━━━━━━━━━━━━━━━━━━━\u001b[0m\u001b[37m\u001b[0m \u001b[1m42s\u001b[0m 112ms/step - accuracy: 0.8770 - loss: 0.2748 - val_accuracy: 0.8720 - val_loss: 0.3101\n",
      "\u001b[1m32/32\u001b[0m \u001b[32m━━━━━━━━━━━━━━━━━━━━\u001b[0m\u001b[37m\u001b[0m \u001b[1m2s\u001b[0m 48ms/step - accuracy: 0.8702 - loss: 0.3047\n",
      "Test Accuracy: 88.30%\n"
     ]
    }
   ],
   "source": [
    "base_model = VGG16(weights='imagenet', include_top=False, input_shape=(32, 32, 3))\n",
    "\n",
    "for layer in base_model.layers:\n",
    "    layer.trainable = False\n",
    "\n",
    "x = base_model.output\n",
    "x = GlobalAveragePooling2D()(x)\n",
    "x = Dense(128, activation='relu')(x)\n",
    "output = Dense(1, activation='sigmoid')(x)  # Binary classification\n",
    "\n",
    "model = Model(inputs=base_model.input, outputs=output)\n",
    "\n",
    "model.compile(\n",
    "    optimizer=tf.keras.optimizers.Adam(learning_rate=0.001),\n",
    "    loss='binary_crossentropy',\n",
    "    metrics=['accuracy']\n",
    ")\n",
    "\n",
    "train_datagen = ImageDataGenerator(\n",
    "    rescale=1./255,\n",
    "    rotation_range=20,\n",
    "    width_shift_range=0.2,\n",
    "    height_shift_range=0.2,\n",
    "    shear_range=0.2,\n",
    "    zoom_range=0.2,\n",
    "    horizontal_flip=True\n",
    ")\n",
    "\n",
    "val_datagen = ImageDataGenerator(rescale=1./255)\n",
    "\n",
    "train_generator = train_datagen.flow_from_directory(\n",
    "    'C:/Users/D E L L/Desktop/Deep Learning Project/cancer_data_split/train',\n",
    "    target_size=(32, 32),\n",
    "    batch_size=32,\n",
    "    class_mode='binary'\n",
    ")\n",
    "\n",
    "validation_generator = val_datagen.flow_from_directory(\n",
    "    'C:/Users/D E L L/Desktop/Deep Learning Project/cancer_data_split/val',\n",
    "    target_size=(32, 32),\n",
    "    batch_size=32,\n",
    "    class_mode='binary'\n",
    ")\n",
    "\n",
    "test_generator = val_datagen.flow_from_directory(\n",
    "    'C:/Users/D E L L/Desktop/Deep Learning Project/cancer_data_split/test',\n",
    "    target_size=(32, 32),\n",
    "    batch_size=32,\n",
    "    class_mode='binary'\n",
    ")\n",
    "\n",
    "early_stopping = EarlyStopping(monitor='val_loss', patience=5, restore_best_weights=True)\n",
    "\n",
    "model.fit(\n",
    "    train_generator,\n",
    "    epochs=10,\n",
    "    validation_data=validation_generator,\n",
    "    callbacks=[early_stopping]\n",
    ")\n",
    "\n",
    "\n",
    "vgg_frozen_loss, vgg_frozen_accuracy = model.evaluate(test_generator)\n",
    "print(f\"Test Accuracy: {test_accuracy * 100:.2f}%\")\n",
    "\n",
    "for layer in base_model.layers[-5:]:\n",
    "    layer.trainable = True\n",
    "\n",
    "model.compile(\n",
    "    optimizer=tf.keras.optimizers.Adam(learning_rate=0.0001),\n",
    "    loss='binary_crossentropy',\n",
    "    metrics=['accuracy']\n",
    ")\n",
    "\n",
    "model.fit(\n",
    "    train_generator,\n",
    "    epochs=10,\n",
    "    validation_data=validation_generator,\n",
    "    callbacks=[early_stopping]\n",
    ")\n",
    "\n",
    "vgg_unfrozen_loss, vgg_unfrozen_accuracy = model.evaluate(test_generator)\n",
    "print(f\"Test Accuracy: {test_accuracy * 100:.2f}%\")\n",
    "\n",
    "#model.save('fine_tuned_cancer_model.h5')\n"
   ]
  },
  {
   "cell_type": "markdown",
   "id": "aeef2157-d97e-45a3-920d-ee671e53cf8f",
   "metadata": {},
   "source": [
    "# Pertrained - ViT"
   ]
  },
  {
   "cell_type": "code",
   "execution_count": 46,
   "id": "a972473e-aaeb-4368-b29b-d1eb44af5467",
   "metadata": {},
   "outputs": [
    {
     "name": "stdout",
     "output_type": "stream",
     "text": [
      "Found 11879 images belonging to 2 classes.\n",
      "Found 1000 images belonging to 2 classes.\n",
      "Found 1000 images belonging to 2 classes.\n",
      "Epoch 1/10\n",
      "\u001b[1m372/372\u001b[0m \u001b[32m━━━━━━━━━━━━━━━━━━━━\u001b[0m\u001b[37m\u001b[0m \u001b[1m20s\u001b[0m 51ms/step - accuracy: 0.7840 - loss: 0.4561 - val_accuracy: 0.8110 - val_loss: 0.4162\n",
      "Epoch 2/10\n",
      "\u001b[1m372/372\u001b[0m \u001b[32m━━━━━━━━━━━━━━━━━━━━\u001b[0m\u001b[37m\u001b[0m \u001b[1m19s\u001b[0m 52ms/step - accuracy: 0.8182 - loss: 0.3797 - val_accuracy: 0.7540 - val_loss: 0.4517\n",
      "Epoch 3/10\n",
      "\u001b[1m372/372\u001b[0m \u001b[32m━━━━━━━━━━━━━━━━━━━━\u001b[0m\u001b[37m\u001b[0m \u001b[1m20s\u001b[0m 53ms/step - accuracy: 0.8339 - loss: 0.3630 - val_accuracy: 0.7700 - val_loss: 0.4345\n",
      "Epoch 4/10\n",
      "\u001b[1m372/372\u001b[0m \u001b[32m━━━━━━━━━━━━━━━━━━━━\u001b[0m\u001b[37m\u001b[0m \u001b[1m20s\u001b[0m 52ms/step - accuracy: 0.8364 - loss: 0.3573 - val_accuracy: 0.7930 - val_loss: 0.3940\n",
      "Epoch 5/10\n",
      "\u001b[1m372/372\u001b[0m \u001b[32m━━━━━━━━━━━━━━━━━━━━\u001b[0m\u001b[37m\u001b[0m \u001b[1m19s\u001b[0m 52ms/step - accuracy: 0.8412 - loss: 0.3557 - val_accuracy: 0.8270 - val_loss: 0.3750\n",
      "Epoch 6/10\n",
      "\u001b[1m372/372\u001b[0m \u001b[32m━━━━━━━━━━━━━━━━━━━━\u001b[0m\u001b[37m\u001b[0m \u001b[1m19s\u001b[0m 52ms/step - accuracy: 0.8389 - loss: 0.3503 - val_accuracy: 0.7980 - val_loss: 0.3794\n",
      "Epoch 7/10\n",
      "\u001b[1m372/372\u001b[0m \u001b[32m━━━━━━━━━━━━━━━━━━━━\u001b[0m\u001b[37m\u001b[0m \u001b[1m19s\u001b[0m 52ms/step - accuracy: 0.8428 - loss: 0.3396 - val_accuracy: 0.8200 - val_loss: 0.3674\n",
      "Epoch 8/10\n",
      "\u001b[1m372/372\u001b[0m \u001b[32m━━━━━━━━━━━━━━━━━━━━\u001b[0m\u001b[37m\u001b[0m \u001b[1m20s\u001b[0m 53ms/step - accuracy: 0.8414 - loss: 0.3417 - val_accuracy: 0.8590 - val_loss: 0.3431\n",
      "Epoch 9/10\n",
      "\u001b[1m372/372\u001b[0m \u001b[32m━━━━━━━━━━━━━━━━━━━━\u001b[0m\u001b[37m\u001b[0m \u001b[1m19s\u001b[0m 52ms/step - accuracy: 0.8447 - loss: 0.3383 - val_accuracy: 0.8130 - val_loss: 0.3710\n",
      "Epoch 10/10\n",
      "\u001b[1m372/372\u001b[0m \u001b[32m━━━━━━━━━━━━━━━━━━━━\u001b[0m\u001b[37m\u001b[0m \u001b[1m20s\u001b[0m 52ms/step - accuracy: 0.8534 - loss: 0.3286 - val_accuracy: 0.8340 - val_loss: 0.3577\n",
      "\u001b[1m32/32\u001b[0m \u001b[32m━━━━━━━━━━━━━━━━━━━━\u001b[0m\u001b[37m\u001b[0m \u001b[1m1s\u001b[0m 44ms/step - accuracy: 0.8545 - loss: 0.3366\n",
      "Test Accuracy: 88.30%\n",
      "Epoch 1/10\n",
      "\u001b[1m372/372\u001b[0m \u001b[32m━━━━━━━━━━━━━━━━━━━━\u001b[0m\u001b[37m\u001b[0m \u001b[1m42s\u001b[0m 111ms/step - accuracy: 0.8047 - loss: 0.4331 - val_accuracy: 0.7320 - val_loss: 0.5450\n",
      "Epoch 2/10\n",
      "\u001b[1m372/372\u001b[0m \u001b[32m━━━━━━━━━━━━━━━━━━━━\u001b[0m\u001b[37m\u001b[0m \u001b[1m41s\u001b[0m 110ms/step - accuracy: 0.8420 - loss: 0.3445 - val_accuracy: 0.7770 - val_loss: 0.4127\n",
      "Epoch 3/10\n",
      "\u001b[1m372/372\u001b[0m \u001b[32m━━━━━━━━━━━━━━━━━━━━\u001b[0m\u001b[37m\u001b[0m \u001b[1m41s\u001b[0m 110ms/step - accuracy: 0.8470 - loss: 0.3320 - val_accuracy: 0.8280 - val_loss: 0.3501\n",
      "Epoch 4/10\n",
      "\u001b[1m372/372\u001b[0m \u001b[32m━━━━━━━━━━━━━━━━━━━━\u001b[0m\u001b[37m\u001b[0m \u001b[1m41s\u001b[0m 110ms/step - accuracy: 0.8600 - loss: 0.3076 - val_accuracy: 0.8600 - val_loss: 0.3143\n",
      "Epoch 5/10\n",
      "\u001b[1m372/372\u001b[0m \u001b[32m━━━━━━━━━━━━━━━━━━━━\u001b[0m\u001b[37m\u001b[0m \u001b[1m41s\u001b[0m 110ms/step - accuracy: 0.8638 - loss: 0.3034 - val_accuracy: 0.8750 - val_loss: 0.3004\n",
      "Epoch 6/10\n",
      "\u001b[1m372/372\u001b[0m \u001b[32m━━━━━━━━━━━━━━━━━━━━\u001b[0m\u001b[37m\u001b[0m \u001b[1m41s\u001b[0m 110ms/step - accuracy: 0.8674 - loss: 0.3021 - val_accuracy: 0.8460 - val_loss: 0.3263\n",
      "Epoch 7/10\n",
      "\u001b[1m372/372\u001b[0m \u001b[32m━━━━━━━━━━━━━━━━━━━━\u001b[0m\u001b[37m\u001b[0m \u001b[1m41s\u001b[0m 109ms/step - accuracy: 0.8667 - loss: 0.2925 - val_accuracy: 0.8560 - val_loss: 0.3139\n",
      "Epoch 8/10\n",
      "\u001b[1m372/372\u001b[0m \u001b[32m━━━━━━━━━━━━━━━━━━━━\u001b[0m\u001b[37m\u001b[0m \u001b[1m41s\u001b[0m 110ms/step - accuracy: 0.8769 - loss: 0.2825 - val_accuracy: 0.8880 - val_loss: 0.2792\n",
      "Epoch 9/10\n",
      "\u001b[1m372/372\u001b[0m \u001b[32m━━━━━━━━━━━━━━━━━━━━\u001b[0m\u001b[37m\u001b[0m \u001b[1m41s\u001b[0m 110ms/step - accuracy: 0.8732 - loss: 0.2867 - val_accuracy: 0.8940 - val_loss: 0.2699\n",
      "Epoch 10/10\n",
      "\u001b[1m372/372\u001b[0m \u001b[32m━━━━━━━━━━━━━━━━━━━━\u001b[0m\u001b[37m\u001b[0m \u001b[1m42s\u001b[0m 113ms/step - accuracy: 0.8765 - loss: 0.2740 - val_accuracy: 0.8620 - val_loss: 0.2896\n",
      "\u001b[1m32/32\u001b[0m \u001b[32m━━━━━━━━━━━━━━━━━━━━\u001b[0m\u001b[37m\u001b[0m \u001b[1m2s\u001b[0m 46ms/step - accuracy: 0.8922 - loss: 0.2618\n",
      "Test Accuracy: 88.30%\n"
     ]
    }
   ],
   "source": [
    "base_model = VGG16(weights='imagenet', include_top=False, input_shape=(32, 32, 3))\n",
    "\n",
    "for layer in base_model.layers:\n",
    "    layer.trainable = False\n",
    "\n",
    "x = base_model.output\n",
    "x = GlobalAveragePooling2D()(x)\n",
    "x = Dense(128, activation='relu')(x)\n",
    "output = Dense(1, activation='sigmoid')(x)\n",
    "\n",
    "model = Model(inputs=base_model.input, outputs=output)\n",
    "\n",
    "# Compile the model\n",
    "model.compile(\n",
    "    optimizer=tf.keras.optimizers.Adam(learning_rate=0.001),\n",
    "    loss='binary_crossentropy',\n",
    "    metrics=['accuracy']\n",
    ")\n",
    "\n",
    "train_datagen = ImageDataGenerator(\n",
    "    rescale=1.0 / 255,\n",
    "    rotation_range=20,\n",
    "    width_shift_range=0.2,\n",
    "    height_shift_range=0.2,\n",
    "    shear_range=0.2,\n",
    "    zoom_range=0.2,\n",
    "    horizontal_flip=True\n",
    ")\n",
    "\n",
    "val_datagen = ImageDataGenerator(rescale=1.0 / 255)\n",
    "\n",
    "train_generator = train_datagen.flow_from_directory(\n",
    "    'C:/Users/D E L L/Desktop/Deep Learning Project/cancer_data_split/train',\n",
    "    target_size=(32, 32),\n",
    "    batch_size=32,\n",
    "    class_mode='binary'\n",
    ")\n",
    "\n",
    "validation_generator = val_datagen.flow_from_directory(\n",
    "    'C:/Users/D E L L/Desktop/Deep Learning Project/cancer_data_split/val',\n",
    "    target_size=(32, 32),\n",
    "    batch_size=32,\n",
    "    class_mode='binary'\n",
    ")\n",
    "\n",
    "test_generator = val_datagen.flow_from_directory(\n",
    "    'C:/Users/D E L L/Desktop/Deep Learning Project/cancer_data_split/test',\n",
    "    target_size=(32, 32),\n",
    "    batch_size=32,\n",
    "    class_mode='binary'\n",
    ")\n",
    "\n",
    "early_stopping = EarlyStopping(monitor='val_loss', patience=5, restore_best_weights=True)\n",
    "\n",
    "model.fit(\n",
    "    train_generator,\n",
    "    epochs=10,\n",
    "    validation_data=validation_generator,\n",
    "    callbacks=[early_stopping]\n",
    ")\n",
    "\n",
    "vit_frozen_loss, vit_frozen_accuracy = model.evaluate(test_generator)\n",
    "print(f\"Test Accuracy: {test_accuracy * 100:.2f}%\")\n",
    "\n",
    "for layer in base_model.layers[-5:]:  # Unfreeze the last 5 layers\n",
    "    layer.trainable = True\n",
    "\n",
    "model.compile(\n",
    "    optimizer=tf.keras.optimizers.Adam(learning_rate=0.0001),\n",
    "    loss='binary_crossentropy',\n",
    "    metrics=['accuracy']\n",
    ")\n",
    "\n",
    "model.fit(\n",
    "    train_generator,\n",
    "    epochs=10,\n",
    "    validation_data=validation_generator,\n",
    "    callbacks=[early_stopping]\n",
    ")\n",
    "\n",
    "vit_unfrozen_loss, vit_unfrozen_accuracy = model.evaluate(test_generator)\n",
    "print(f\"Test Accuracy: {test_accuracy * 100:.2f}%\")\n",
    "\n",
    "#model.save('fine_tuned_cancer_model.h5')\n"
   ]
  },
  {
   "cell_type": "code",
   "execution_count": 48,
   "id": "b9f5c5b5-a2e1-4aac-8d4c-a1a6325f78e5",
   "metadata": {},
   "outputs": [],
   "source": [
    "models = ['Scenario 1', 'Scenario 2', 'VGG Frozen', 'VGG Unfrozen', 'ViT Frozen', 'ViT Unfrozen']\n",
    "accuracies = [acc_1, acc_2, vgg_frozen_accuracy, vgg_unfrozen_accuracy, vit_frozen_accuracy, vit_unfrozen_accuracy]\n",
    "losses = [loss_1, loss_2, vgg_frozen_loss, vgg_unfrozen_loss, vit_frozen_loss, vit_unfrozen_loss]"
   ]
  },
  {
   "cell_type": "code",
   "execution_count": 51,
   "id": "823749c0-b3b0-4567-8911-fa39d0942cd9",
   "metadata": {},
   "outputs": [
    {
     "data": {
      "image/png": "[encoded data removed]",
      "text/plain": [
       "<Figure size 640x480 with 1 Axes>"
      ]
     },
     "metadata": {},
     "output_type": "display_data"
    }
   ],
   "source": [
    "plt.bar(models, accuracies)\n",
    "plt.grid()\n",
    "plt.title(\"Comparing Accuracies among Models\")\n",
    "plt.ylim(0.8, 0.9)\n",
    "plt.xticks(rotation=90)\n",
    "plt.show()"
   ]
  },
  {
   "cell_type": "code",
   "execution_count": null,
   "id": "aec30fb6-7b14-4ecf-beba-35e8a0d602ff",
   "metadata": {},
   "outputs": [],
   "source": [
    "\"\"\"\n",
    "from sklearn.metrics import confusion_matrix, classification_report\n",
    "\n",
    "true_labels = test_generator.classes\n",
    "predictions = model.predict(test_generator)\n",
    "predicted_labels = (predictions > 0.0017942802514880896).astype(int).flatten()\n",
    "\n",
    "# Confusion matrix\n",
    "conf_matrix = confusion_matrix(true_labels, predicted_labels)\n",
    "print(\"Confusion Matrix:\")\n",
    "print(conf_matrix)\n",
    "\n",
    "# Plot the confusion matrix\n",
    "plt.figure(figsize=(8, 6))\n",
    "sns.heatmap(conf_matrix, annot=True, fmt='d', cmap='Blues', xticklabels=['Negative', 'Positive'], yticklabels=['Negative', 'Positive'])\n",
    "plt.xlabel('Predicted Labels')\n",
    "plt.ylabel('True Labels')\n",
    "plt.title('Confusion Matrix')\n",
    "plt.show()\n",
    "\n",
    "# Step 10: Classification Report\n",
    "print(\"Classification Report:\")\n",
    "print(classification_report(true_labels, predicted_labels, target_names=['Negative', 'Positive']))\n",
    "\n",
    "\n",
    "print(\"First 10 True Labels:\", true_labels[:10])\n",
    "print(\"First 10 Predicted Probabilities:\", predictions[:10])\n",
    "print(\"First 10 Predicted Labels:\", predicted_labels[:10])\n",
    "\n",
    "\n",
    "manual_accuracy = np.mean(true_labels == predicted_labels)\n",
    "print(f\"Manual Accuracy: {manual_accuracy * 100:.2f}%\")\n",
    "\n",
    "from sklearn.metrics import roc_curve\n",
    "\n",
    "# Get true labels and predicted probabilities\n",
    "y_true = test_generator.classes\n",
    "y_pred_probs = model.predict(test_generator).flatten()\n",
    "\n",
    "# Calculate the ROC curve\n",
    "fpr, tpr, thresholds = roc_curve(y_true, y_pred_probs)\n",
    "\n",
    "# Find the optimal threshold\n",
    "optimal_idx = np.argmax(tpr - fpr)\n",
    "optimal_threshold = thresholds[optimal_idx]\n",
    "print(f\"Optimal Threshold: {optimal_threshold}\")\n",
    "\n",
    "# Recalculate predicted labels using the optimal threshold\n",
    "y_pred_labels = (y_pred_probs > optimal_threshold).astype(int)\n",
    "\"\"\""
   ]
  }
 ],
 "metadata": {
  "kernelspec": {
   "display_name": "Python 3 (ipykernel)",
   "language": "python",
   "name": "python3"
  },
  "language_info": {
   "codemirror_mode": {
    "name": "ipython",
    "version": 3
   },
   "file_extension": ".py",
   "mimetype": "text/x-python",
   "name": "python",
   "nbconvert_exporter": "python",
   "pygments_lexer": "ipython3",
   "version": "3.11.11"
  }
 },
 "nbformat": 4,
 "nbformat_minor": 5
}
